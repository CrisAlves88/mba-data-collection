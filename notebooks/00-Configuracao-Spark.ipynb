{
 "cells": [
  {
   "cell_type": "code",
   "execution_count": null,
   "metadata": {},
   "outputs": [],
   "source": [
    "import os\n",
    "from pyspark.sql import SparkSession\n",
    "import boto3\n",
    "from botocore.client import Config\n",
    "\n",
    "# --- ETAPA 0: Criar o bucket no MinIO programaticamente ---\n",
    "s3_client = boto3.client(\n",
    "    's3',\n",
    "    endpoint_url='http://minio:9000',\n",
    "    aws_access_key_id='minioadmin',\n",
    "    aws_secret_access_key='minioadmin',\n",
    "    config=Config(signature_version='s3v4')\n",
    ")\n",
    "\n",
    "bucket_name = 'iceberg-warehouse'\n",
    "try:\n",
    "    s3_client.head_bucket(Bucket=bucket_name)\n",
    "    print(f\"Bucket '{bucket_name}' já existe.\")\n",
    "except s3_client.exceptions.ClientError as e:\n",
    "    if e.response['Error']['Code'] == '404':\n",
    "        s3_client.create_bucket(Bucket=bucket_name)\n",
    "        print(f\"Bucket '{bucket_name}' criado com sucesso.\")\n",
    "    else:\n",
    "        raise\n",
    "\n",
    "# --- Configurações Essenciais do Spark ---\n",
    "spark_jars_packages = [\n",
    "    \"org.apache.iceberg:iceberg-spark-runtime-3.5_2.12:1.5.0\",\n",
    "    \"org.apache.hadoop:hadoop-aws:3.3.4\",\n",
    "    \"software.amazon.awssdk:bundle:2.17.257\",\n",
    "    \"org.postgresql:postgresql:42.6.0\",\n",
    "    \"org.mongodb.spark:mongo-spark-connector_2.12:10.2.1\"\n",
    "]\n",
    "\n",
    "# --- Inicialização da SparkSession ---\n",
    "spark = SparkSession.builder \\\n",
    "    .appName(\"MBA_DataCollect_Lab\") \\\n",
    "    .config(\"spark.jars.packages\", \",\".join(spark_jars_packages)) \\\n",
    "    .config(\"spark.sql.extensions\", \"org.apache.iceberg.spark.extensions.IcebergSparkSessionExtensions\") \\\n",
    "    .config(\"spark.sql.defaultCatalog\", \"minio_catalog\") \\\n",
    "    .config(\"spark.sql.catalog.minio_catalog\", \"org.apache.iceberg.spark.SparkCatalog\") \\\n",
    "    .config(f\"spark.sql.catalog.minio_catalog.warehouse\", f\"s3a://{bucket_name}/\") \\\n",
    "    .config(\"spark.sql.catalog.minio_catalog.io-impl\", \"org.apache.iceberg.aws.s3.S3FileIO\") \\\n",
    "    .config(\"spark.hadoop.fs.s3a.endpoint\", \"http://minio:9000\") \\\n",
    "    .config(\"spark.hadoop.fs.s3a.access.key\", \"minioadmin\") \\\n",
    "    .config(\"spark.hadoop.fs.s3a.secret.key\", \"minioadmin\") \\\n",
    "    .config(\"spark.hadoop.fs.s3a.path.style.access\", \"true\") \\\n",
    "    .config(\"spark.hadoop.fs.s3a.impl\", \"org.apache.hadoop.fs.s3a.S3AFileSystem\") \\\n",
    "    .getOrCreate()\n",
    "\n",
    "print(\"Spark Session e Catálogo Iceberg (MinIO) configurados com sucesso!\")"
   ]
  }
 ],
 "metadata": {
  "kernelspec": {
   "display_name": "Python 3",
   "language": "python",
   "name": "python3"
  },
  "language_info": {
   "codemirror_mode": {
    "name": "ipython",
    "version": 3
   },
   "file_extension": ".py",
   "mimetype": "text/x-python",
   "name": "python",
   "nbconvert_exporter": "python",
   "pygments_lexer": "ipython3",
   "version": "3.8.8"
  }
 },
 "nbformat": 4,
 "nbformat_minor": 4
}